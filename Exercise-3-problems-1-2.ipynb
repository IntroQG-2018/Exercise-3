{
 "cells": [
  {
   "cell_type": "markdown",
   "metadata": {
    "deletable": false,
    "editable": false,
    "nbgrader": {
     "checksum": "8b3dce610a1009260bdef320f760f9a2",
     "grade": false,
     "grade_id": "cell-24c2dfd47f79a0c1",
     "locked": true,
     "schema_version": 1,
     "solution": false
    }
   },
   "source": [
    "# Exercise 3: Hillslope diffusion\n",
    "\n",
    "The objective of this week's exercise is to compute hillslope profiles assuming hillslope evolution is a diffusive process.\n",
    "As discussed in lecture, the hillslope diffusion model is based on the principal of conservation of mass, which states that the changes in surface elevation are proportional to the soil/sediment flux along the hillslope.\n",
    "\n",
    "For each problem you need to modify the given notebook, and then upload your files to GitHub.\n",
    "The answers to the questions in this week's exercise should be given by modifying the document in places where you are asked.\n",
    "\n",
    "- **Exercise 3 is due by the start of class on on 19.11.**\n",
    "- Don't forget to check out [the hints for this week's exercise](https://introqg.github.io/qg/lessons/L3/exercise-3.html) if you're having trouble.\n",
    "- Scores on this exercise are out of 20 points.\n",
    "\n",
    "This tutorial is based on [a MATLAB exercise from Prof. Todd Ehlers (Uni Tübingen)](http://www.mnf.uni-tuebingen.de/fachbereiche/geowissenschaften/arbeitsgruppen/mineralogie-geodynamik/forschungsbereich/geologie-geodynamik/workgroup.html)."
   ]
  },
  {
   "cell_type": "markdown",
   "metadata": {
    "deletable": false,
    "editable": false,
    "nbgrader": {
     "checksum": "4acd40e9224afe0ba35d1769bdf84edb",
     "grade": false,
     "grade_id": "cell-4621dd9c86a7652f",
     "locked": true,
     "schema_version": 1,
     "solution": false
    }
   },
   "source": [
    "# Problem 1: Steady-state diffusive hillslope profiles (14 points)\n",
    "\n",
    "In this exercise, you will be plotting a diffusive hillslope profile and exploring the effect of various parameters on the hillslope geometry.\n",
    "\n",
    "## Part 1: Defining a hillslope profile function (2 points)\n",
    "\n",
    "Your first task for this problem is to define a function to calculate the geometry of an *interfluve* (the region between two adjacent river valleys) shaped by hillslope diffusion.\n",
    "As we saw briefly in the [lesson for this week](https://introqg.github.io/qg/lessons/L3/solving-diffusion.html), we can calculate this geometry using the diffusion equation for a hillslope profile that has the rivers located at $x = ±L$ and the apex of the interfluve at $x = 0$.\n",
    "If we assume the landscape is being uplifted at a rate $U$ and that the rivers elevations are fixed at $h = 0$, we find that the elevation of the interfluve is\n",
    "\n",
    "\\begin{equation}\n",
    "  h(x) = \\frac{U}{2 \\kappa}\\left(L^{2} - x^{2} \\right)\n",
    "\\end{equation}\n",
    "\n",
    "where $\\kappa$ is the sediment/soil diffusivity.\n",
    "\n",
    "For this part you should:\n",
    "\n",
    "- Create a function called `hillslope_diffusion` that calculates the elevation of the interfluve $h$ as a function of horizontal distance $x$.\n",
    "    - Your function should take the half-interfluve width `L`, the list of values at which the elevation $h$ should be calculated `x`, the landscape uplift rate `U`, and the sediment/soil diffusivity `kappa` as parameters.\n",
    "    - **NOTE**: You can use a `for` loop inside your function, but it is not strictly necessary"
   ]
  },
  {
   "cell_type": "code",
   "execution_count": null,
   "metadata": {
    "deletable": false,
    "editable": false,
    "nbgrader": {
     "checksum": "54c697bb73eb2f3a1ba2a098063175b9",
     "grade": false,
     "grade_id": "cell-48f6e96d09ffc56c",
     "locked": true,
     "schema_version": 1,
     "solution": false
    }
   },
   "outputs": [],
   "source": [
    "# Run this cell first to ensure plots appear when we grade!\n",
    "%matplotlib inline"
   ]
  },
  {
   "cell_type": "code",
   "execution_count": null,
   "metadata": {
    "deletable": false,
    "nbgrader": {
     "checksum": "56379baf4fbe0d54193eebdba83c3746",
     "grade": false,
     "grade_id": "hillslope_function",
     "locked": false,
     "schema_version": 1,
     "solution": true
    }
   },
   "outputs": [],
   "source": [
    "# Import NumPy and Matplotlib\n",
    "import numpy as np\n",
    "import matplotlib.pyplot as plt\n",
    "\n",
    "def hillslope_diffusion(L, x, U, kappa):\n",
    "    \"\"\"Calculates the elevation of a hillslope experiencing diffusion.\"\"\"\n",
    "# YOUR CODE HERE\n",
    "raise NotImplementedError()"
   ]
  },
  {
   "cell_type": "code",
   "execution_count": null,
   "metadata": {
    "deletable": false,
    "editable": false,
    "nbgrader": {
     "checksum": "d71d92bd8ca08cf07f417e158a5efe94",
     "grade": true,
     "grade_id": "hillslope_function_tests",
     "locked": true,
     "points": 2,
     "schema_version": 1,
     "solution": false
    }
   },
   "outputs": [],
   "source": [
    "# This test should work\n",
    "x_test = np.linspace(-1, 1, 11)\n",
    "h = hillslope_diffusion(L = 1, x=x_test, U=1, kappa=1)\n",
    "print(\"Hillslope elevation at x = 0 should be 0.5. My code calculates\", h[5])\n"
   ]
  },
  {
   "cell_type": "markdown",
   "metadata": {
    "deletable": false,
    "editable": false,
    "nbgrader": {
     "checksum": "79c56b659c13a0ace0d7c10cf0aa5751",
     "grade": false,
     "grade_id": "cell-c9ca365be324d861",
     "locked": true,
     "schema_version": 1,
     "solution": false
    }
   },
   "source": [
    "## Part 2: Calculating a hillslope geometry (1 point)\n",
    "\n",
    "With the `hillslope_diffusion` function defined, we can now move on to calculating the geometry of a hillslope.\n",
    "\n",
    "For this part you should:\n",
    "\n",
    "- Calculate the elevation of a hillslope `h` for an interfluve that has two channels located 100m apart and a landscape uplift rate $U$ of 0.5 mm/a. Assume the diffusion coefficient $\\kappa = 50 \\times 10^{-3}$m<sup>2</sup>/a and the increment for values of $x$ is 1 meter.\n",
    "    - For the variables passed to your `hillslope_diffusion` function, use the name `x` for the range of locations at which the elevation should be calculated, `L` for the inferfluve half-width, `U` for the uplift rate, and `kappa` for the diffusivity.\n",
    "    - **NOTE**: Be careful to ensure your units are compatible. Distance and time units should be adjusted accordingly to ensure they work together."
   ]
  },
  {
   "cell_type": "code",
   "execution_count": null,
   "metadata": {
    "deletable": false,
    "nbgrader": {
     "checksum": "c981679641cd0cf59909bee0c304f368",
     "grade": false,
     "grade_id": "hillslope",
     "locked": false,
     "schema_version": 1,
     "solution": true
    }
   },
   "outputs": [],
   "source": [
    "# YOUR CODE HERE\n",
    "raise NotImplementedError()"
   ]
  },
  {
   "cell_type": "code",
   "execution_count": null,
   "metadata": {
    "deletable": false,
    "editable": false,
    "nbgrader": {
     "checksum": "c81a286f150a37d93706ba7e93a1730d",
     "grade": true,
     "grade_id": "hillslope_tests",
     "locked": true,
     "points": 1,
     "schema_version": 1,
     "solution": false
    }
   },
   "outputs": [],
   "source": [
    "print(\"h at index 20 should be 8.0. My code calculates\", h[20])\n"
   ]
  },
  {
   "cell_type": "markdown",
   "metadata": {
    "deletable": false,
    "editable": false,
    "nbgrader": {
     "checksum": "fa45d5cbc69f106112f27b0a351cc708",
     "grade": false,
     "grade_id": "cell-1152dd4ddb67ef0c",
     "locked": true,
     "schema_version": 1,
     "solution": false
    }
   },
   "source": [
    "## Part 3: Plotting your results (3 points)\n",
    "\n",
    "Your next task is to create a plot of your hillslope profile and add a few values to the plot.\n",
    "\n",
    "For this part you should:\n",
    "\n",
    "- Plot the value of `h` as a function of `x` for your hillslope profile.\n",
    "    - Plot this with a black line.\n",
    "- Add meaningful axis labels and a plot title\n",
    "- Calculate (1) the maximum slope of the profile as variable `max_slope`, (2) its value in degrees as variable `max_slope_deg`, (3) the maximum relief of the profile as variable `max_relief`, and (4) the characteristic timescale of diffusion (or time constant) as variable `tau`, and display these 4 values on the plot using the `plt.text()` function.\n",
    "    - You can find useful information about these values in the [notes on solving the diffusion equation](https://introqg.github.io/qg/lessons/L3/solving-diffusion.html) in this week's lesson.\n",
    "    - You may want to use [Google](https://www.google.fi) to look up the characteristic timescale of diffusion.\n",
    "- Add a figure caption in the Markdown cell below the plot explaining what it shows as if it was in a scientific publication."
   ]
  },
  {
   "cell_type": "code",
   "execution_count": null,
   "metadata": {
    "deletable": false,
    "nbgrader": {
     "checksum": "de6df2ae28c0b9a7bdb4bb644bc3a989",
     "grade": true,
     "grade_id": "plot_3-1",
     "locked": false,
     "points": 2,
     "schema_version": 1,
     "solution": true
    }
   },
   "outputs": [],
   "source": [
    "# YOUR CODE HERE\n",
    "raise NotImplementedError()"
   ]
  },
  {
   "cell_type": "markdown",
   "metadata": {
    "deletable": false,
    "nbgrader": {
     "checksum": "8ae1ba68d3916be2919b584f91a85342",
     "grade": true,
     "grade_id": "plot_3-1_caption",
     "locked": false,
     "points": 1,
     "schema_version": 1,
     "solution": true
    }
   },
   "source": [
    "YOUR ANSWER HERE"
   ]
  },
  {
   "cell_type": "markdown",
   "metadata": {
    "deletable": false,
    "editable": false,
    "nbgrader": {
     "checksum": "9de3a093f015a4ac52c8e3d4ddc4fefb",
     "grade": false,
     "grade_id": "cell-9a07bb11909e7b39",
     "locked": true,
     "schema_version": 1,
     "solution": false
    }
   },
   "source": [
    "## Part 4: Exploring the model (6 points)\n",
    "\n",
    "Your next task is to explore the effect of different parameters on the hillslope geometry.\n",
    "\n",
    "For this part you should:\n",
    "\n",
    "- Make an additional **four** plots for the four variations of the diffusive hillslope model parameters below, each in a separate Python cell.\n",
    "In each case be sure you only vary a single parameter from the original values given in Part 2.\n",
    "    1. Double the interfluve half-width `L`\n",
    "    2. Double the uplift rate `U`\n",
    "    3. Double the diffusivity `kappa`\n",
    "    4. Reduce the diffusivity `kappa` by half\n",
    "- Add a figure caption in the Markdown cell beneath **each** plot explaining what it shows as if it was in a scientific publication."
   ]
  },
  {
   "cell_type": "code",
   "execution_count": null,
   "metadata": {
    "deletable": false,
    "nbgrader": {
     "checksum": "eb1c47e60c3be23846e2118e5da25b69",
     "grade": true,
     "grade_id": "plot_4-1",
     "locked": false,
     "points": 1,
     "schema_version": 1,
     "solution": true
    }
   },
   "outputs": [],
   "source": [
    "# Double the interfluve half-width\n",
    "\n",
    "# YOUR CODE HERE\n",
    "raise NotImplementedError()"
   ]
  },
  {
   "cell_type": "markdown",
   "metadata": {
    "deletable": false,
    "nbgrader": {
     "checksum": "40615aa6352d0c7424660d0555b11ddd",
     "grade": true,
     "grade_id": "plot_4-1_caption",
     "locked": false,
     "points": 0.5,
     "schema_version": 1,
     "solution": true
    }
   },
   "source": [
    "YOUR ANSWER HERE"
   ]
  },
  {
   "cell_type": "code",
   "execution_count": null,
   "metadata": {
    "deletable": false,
    "nbgrader": {
     "checksum": "d88bdb299b96597990dfae037b49a63b",
     "grade": true,
     "grade_id": "plot_4-2",
     "locked": false,
     "points": 1,
     "schema_version": 1,
     "solution": true
    }
   },
   "outputs": [],
   "source": [
    "# Double the uplift rate\n",
    "\n",
    "# YOUR CODE HERE\n",
    "raise NotImplementedError()"
   ]
  },
  {
   "cell_type": "markdown",
   "metadata": {
    "deletable": false,
    "nbgrader": {
     "checksum": "a66ed85ad44bc81a5398d5a1647902d6",
     "grade": true,
     "grade_id": "plot_4-2_caption",
     "locked": false,
     "points": 0.5,
     "schema_version": 1,
     "solution": true
    }
   },
   "source": [
    "YOUR ANSWER HERE"
   ]
  },
  {
   "cell_type": "code",
   "execution_count": null,
   "metadata": {
    "deletable": false,
    "nbgrader": {
     "checksum": "fd6869c3999132825c33f48eb076d4c7",
     "grade": true,
     "grade_id": "plot_4-3",
     "locked": false,
     "points": 1,
     "schema_version": 1,
     "solution": true
    }
   },
   "outputs": [],
   "source": [
    "# Double the diffusivity\n",
    "\n",
    "# YOUR CODE HERE\n",
    "raise NotImplementedError()"
   ]
  },
  {
   "cell_type": "markdown",
   "metadata": {
    "deletable": false,
    "nbgrader": {
     "checksum": "c2a6f2b4dbe1600adc3c1e1127c412bb",
     "grade": true,
     "grade_id": "plot_4-3_caption",
     "locked": false,
     "points": 0.5,
     "schema_version": 1,
     "solution": true
    }
   },
   "source": [
    "YOUR ANSWER HERE"
   ]
  },
  {
   "cell_type": "code",
   "execution_count": null,
   "metadata": {
    "deletable": false,
    "nbgrader": {
     "checksum": "ba7ad2df15a94114dc7b5d043cb91258",
     "grade": true,
     "grade_id": "plot_4-4",
     "locked": false,
     "points": 1,
     "schema_version": 1,
     "solution": true
    }
   },
   "outputs": [],
   "source": [
    "# Reduce the diffusivity by half\n",
    "\n",
    "# YOUR CODE HERE\n",
    "raise NotImplementedError()"
   ]
  },
  {
   "cell_type": "markdown",
   "metadata": {
    "deletable": false,
    "nbgrader": {
     "checksum": "09a919be6d67cb1e25cca300ccc7299e",
     "grade": true,
     "grade_id": "plot_4-4_caption",
     "locked": false,
     "points": 0.5,
     "schema_version": 1,
     "solution": true
    }
   },
   "source": [
    "YOUR ANSWER HERE"
   ]
  },
  {
   "cell_type": "markdown",
   "metadata": {
    "deletable": false,
    "editable": false,
    "nbgrader": {
     "checksum": "bbb31e6aa102be9cdf58df4cfa740775",
     "grade": false,
     "grade_id": "cell-f47cd6385792d449",
     "locked": true,
     "schema_version": 1,
     "solution": false
    }
   },
   "source": [
    "## Part 5: Questions for Problem 1 (2 points)\n",
    "\n",
    "1. At what value of $x$ (distance from the divide) is the maximum slope?\n",
    "2. Where is the maximum slope in relation to the crest of the interfluve and the river channel?\n",
    "3. What does a characteristic timescale mean?\n",
    "4. What is the value for the characteristic timescale for Part 3? Does it seem reasonable? Why or why not?"
   ]
  },
  {
   "cell_type": "markdown",
   "metadata": {
    "deletable": false,
    "nbgrader": {
     "checksum": "a3fd393bed8d869bf7fa5810c7761619",
     "grade": true,
     "grade_id": "questions_1",
     "locked": false,
     "points": 2,
     "schema_version": 1,
     "solution": true
    }
   },
   "source": [
    "YOUR ANSWER HERE"
   ]
  },
  {
   "cell_type": "markdown",
   "metadata": {
    "deletable": false,
    "editable": false,
    "nbgrader": {
     "checksum": "39b3f7c82be5a48d78f6c16492f9ce61",
     "grade": false,
     "grade_id": "cell-3ac6a9b7bb710526",
     "locked": true,
     "schema_version": 1,
     "solution": false
    }
   },
   "source": [
    "# Problem 2: Mountain hillslope profiles (6 points)\n",
    "\n",
    "In this problem we'll continue using our diffusive hillslope equation, but apply it to natural interfluves in mountainous regions.\n",
    "Active mountain ranges typically have poorly developed soils and abundant exposed bedrock.\n",
    "\n",
    "## Part 1: Mountain hillslope profiles (1.5 points)\n",
    "\n",
    "For this question, you can use your same `hillslope_profile` function from Problem 1.\n",
    "\n",
    "For this part you should:\n",
    "\n",
    "- Calculate a hillslope profile assuming an interfluve width of 20 km, an uplift rate of 0.5 mm/a, and an appropriate diffusivity for rock of 10 m<sup>2</sup>/a.\n",
    "    - The $x$ values should be spaced 100 m apart.\n",
    "- Plot the value of `h` as a function of `x` for your hillslope profile in the same format as in Part 3 of Problem 1.\n",
    "    - Plot this with a black line.\n",
    "    - Add meaningful axis labels and a plot title\n",
    "    - Again calculate the maximum slope and its value in degrees, the maximum relief, and the characteristic timescale and display those values on the plot.\n",
    "- Add a figure caption in the Markdown cell below the plot explaining what it shows as if it was in a scientific publication."
   ]
  },
  {
   "cell_type": "code",
   "execution_count": null,
   "metadata": {
    "deletable": false,
    "nbgrader": {
     "checksum": "c2f8194b3572de07dcde0c21d6556a33",
     "grade": true,
     "grade_id": "plot_2-1",
     "locked": false,
     "points": 1,
     "schema_version": 1,
     "solution": true
    }
   },
   "outputs": [],
   "source": [
    "# YOUR CODE HERE\n",
    "raise NotImplementedError()"
   ]
  },
  {
   "cell_type": "markdown",
   "metadata": {
    "deletable": false,
    "nbgrader": {
     "checksum": "649770f4d85344544c3586d8b6048233",
     "grade": true,
     "grade_id": "plot_2-1_caption",
     "locked": false,
     "points": 0.5,
     "schema_version": 1,
     "solution": true
    }
   },
   "source": [
    "YOUR ANSWER HERE"
   ]
  },
  {
   "cell_type": "markdown",
   "metadata": {
    "deletable": false,
    "editable": false,
    "nbgrader": {
     "checksum": "0dc3b1f137fe6d0f8532b967a4a53507",
     "grade": false,
     "grade_id": "cell-dcc174ccc74207ff",
     "locked": true,
     "schema_version": 1,
     "solution": false
    }
   },
   "source": [
    "## Part 2: Incision history of the western Sierra Nevada mountains, California, USA (1 point)\n",
    "\n",
    "For this section we will apply our model equation to a real landscape, the western Sierra Nevada mountains in California, USA.\n",
    "We will use a [topographic profile](data/sierras_profile.txt) extracted across an interfluve between two streams draining into the Yuba River and change the landscape uplift rate in the diffusive hillslope equation until we get a reasonable match to the observed profile.\n",
    "\n",
    "Before we do anything, it is important that you know the location of the topographic profile.\n",
    "\n",
    "![Topographic profile location](img/Sierras_profile_map.png)\n",
    "*Figure 1. Shaded relief digital elevation model of the western Sierra Nevada Mountains in California, USA. The line A-A´ is the location of a topographic profile used in Part 2 of Problem 2.*\n",
    "\n",
    "Now that you know where the profile is located we can read the [data file](data/sierras_profile.txt) using NumPy.\n",
    "It contains distances from the drainage divide and elevations for the topographic profile A-A´.\n",
    "\n",
    "For this part you should:\n",
    "\n",
    "- Read the data file into a variable called `data`\n",
    "    - Note that the values in this data file are not separated by commas\n",
    "- Split the data file into separate column arrays called `data_x` and `data_h`\n",
    "    - There is no header for this data file, but the first column in the data file is `data_x` and the second is `data_h`"
   ]
  },
  {
   "cell_type": "code",
   "execution_count": null,
   "metadata": {
    "deletable": false,
    "nbgrader": {
     "checksum": "988845921e1467790d136a8aafbdcfb1",
     "grade": false,
     "grade_id": "read_data",
     "locked": false,
     "schema_version": 1,
     "solution": true
    }
   },
   "outputs": [],
   "source": [
    "# YOUR CODE HERE\n",
    "raise NotImplementedError()"
   ]
  },
  {
   "cell_type": "code",
   "execution_count": null,
   "metadata": {
    "deletable": false,
    "editable": false,
    "nbgrader": {
     "checksum": "165cffecfce184b09fcd99722de63101",
     "grade": true,
     "grade_id": "read_data_tests",
     "locked": true,
     "points": 1,
     "schema_version": 1,
     "solution": false
    }
   },
   "outputs": [],
   "source": [
    "# This test should print the first row of the data file\n",
    "print(\"First row of the data file:\\n\", data[0,:])\n"
   ]
  },
  {
   "cell_type": "markdown",
   "metadata": {},
   "source": [
    "## Part 3: Fitting the model to the data (2.5 points)\n",
    "\n",
    "Your next task is to change some of the variables that go into the equation for hillslope diffusion in order to try to match the hillslope profile from the Sierras below in Figure 2.\n",
    "You will be exploring a range of landscape uplift rates (`U`), but the values for the other variables will not change.\n",
    "\n",
    "![Topographic profile](img/sierras_profile.png)<br/>\n",
    "*Figure 2. Topographic profile across an interfluve between 2 streams draining into the Yuba River, Sierra Nevada mountains, California, USA.*\n",
    "\n",
    "For this part you should:\n",
    "\n",
    "- Calculate the diffusive hillslope profile based on the topographic profile from the Sierra Nevada mountains.\n",
    "    - Use a diffusion coefficient of $\\kappa = 1.8$ m<sup>2</sup>/a, an interfluve half-width $L$ equal to approximately half of the distance between the channels (measured off the topographic profile in Figure 2), and 100-m increments for the $x$ values in the profile.\n",
    "    - **NOTE**: Because the elevation of the rivers in the topographic profile are at ~750 m above sea level, you will need to shift all the model profile elevations upwards by about 750 m.\n",
    "- Plot your calculated hillslope profile in the same way as in Part 1, with a few minor changes.\n",
    "    - Plot the calculated hillslope profile using a red line and the observed topographic profile from the data file using a black line.\n",
    "        - You can add the `label` parameter in the `plt.plot()` functions and a line legend if you like.\n",
    "    - Adjust the landscape uplift rate `U` until you have a good match between the geometries of the calculated hillslope profile and the observed topographic profile.\n",
    "    - Add text to the plot to display your best-fit uplift rate using the `plt.text()` function.\n",
    "        - Note that you do not need to include the other values (slope, relief, etc.) from Part 1 as text on this plot.\n",
    "- Add a figure caption in the Markdown cell below the plot explaining what it shows as if it was in a scientific publication."
   ]
  },
  {
   "cell_type": "code",
   "execution_count": null,
   "metadata": {
    "deletable": false,
    "nbgrader": {
     "checksum": "88af276184bb937a2b10d5d4e899c15d",
     "grade": true,
     "grade_id": "plot_2-3",
     "locked": false,
     "points": 2,
     "schema_version": 1,
     "solution": true
    }
   },
   "outputs": [],
   "source": [
    "# YOUR CODE HERE\n",
    "raise NotImplementedError()"
   ]
  },
  {
   "cell_type": "markdown",
   "metadata": {
    "deletable": false,
    "nbgrader": {
     "checksum": "855f75d4df496ed67c28b58e98990a93",
     "grade": true,
     "grade_id": "plot_2-3_caption",
     "locked": false,
     "points": 0.5,
     "schema_version": 1,
     "solution": true
    }
   },
   "source": [
    "YOUR ANSWER HERE"
   ]
  },
  {
   "cell_type": "markdown",
   "metadata": {
    "deletable": false,
    "editable": false,
    "nbgrader": {
     "checksum": "4c671a8df8e6781e58b6a21154b7a6fa",
     "grade": false,
     "grade_id": "cell-734f358acbb9298d",
     "locked": true,
     "schema_version": 1,
     "solution": false
    }
   },
   "source": [
    "## Part 4: Questions for Problem 2 (1 point)\n",
    "\n",
    "1. Discuss the implications of your results for Part 1 for mountain hillslopes in 2-3 sentences. What do the various values you have calculated imply for natural systems? How long might they take to respond to changes in river erosion rates, for example?\n",
    "2. Does the uplift rate that best fits the observed topographic profile for the Sierra Nevada mountains seem reasonable? Why or why not? What information have you based your answer on?"
   ]
  },
  {
   "cell_type": "markdown",
   "metadata": {
    "deletable": false,
    "nbgrader": {
     "checksum": "17a6dc7e3e4afb68e239e3585cabf6aa",
     "grade": true,
     "grade_id": "questions_2-4",
     "locked": false,
     "points": 1,
     "schema_version": 1,
     "solution": true
    }
   },
   "source": [
    "YOUR ANSWER HERE"
   ]
  }
 ],
 "metadata": {
  "kernelspec": {
   "display_name": "Python 3",
   "language": "python",
   "name": "python3"
  },
  "language_info": {
   "codemirror_mode": {
    "name": "ipython",
    "version": 3
   },
   "file_extension": ".py",
   "mimetype": "text/x-python",
   "name": "python",
   "nbconvert_exporter": "python",
   "pygments_lexer": "ipython3",
   "version": "3.6.4"
  }
 },
 "nbformat": 4,
 "nbformat_minor": 2
}
